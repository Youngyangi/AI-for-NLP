{
 "cells": [
  {
   "cell_type": "markdown",
   "metadata": {},
   "source": [
    "# 动态规划——一维剪绳子问题"
   ]
  },
  {
   "cell_type": "code",
   "execution_count": 4,
   "metadata": {},
   "outputs": [],
   "source": [
    "#1-dim cutting\n",
    "original_price = [1, 5, 8, 9, 10, 17, 17, 20, 24, 30]\n",
    "from collections import defaultdict\n",
    "cutting_price = defaultdict(int)"
   ]
  },
  {
   "cell_type": "code",
   "execution_count": 5,
   "metadata": {},
   "outputs": [],
   "source": [
    "for i in range(len(original_price)):\n",
    "    cutting_price[i+1] = original_price[i]"
   ]
  },
  {
   "cell_type": "code",
   "execution_count": 6,
   "metadata": {},
   "outputs": [
    {
     "data": {
      "text/plain": [
       "defaultdict(int,\n",
       "            {1: 1,\n",
       "             2: 5,\n",
       "             3: 8,\n",
       "             4: 9,\n",
       "             5: 10,\n",
       "             6: 17,\n",
       "             7: 17,\n",
       "             8: 20,\n",
       "             9: 24,\n",
       "             10: 30})"
      ]
     },
     "execution_count": 6,
     "metadata": {},
     "output_type": "execute_result"
    }
   ],
   "source": [
    "cutting_price"
   ]
  },
  {
   "cell_type": "code",
   "execution_count": 34,
   "metadata": {},
   "outputs": [],
   "source": [
    "def revenue_optimizer(length, price_dict):\n",
    "    @memo\n",
    "    def price_optimizer(length, price_dict):\n",
    "        #递归解决价格最优\n",
    "        if length == 0:\n",
    "            return 0\n",
    "        price, split = max([(price_optimizer(length-i, price_dict) + price_dict[i],i) for i in range(1,length+1)],\\\n",
    "                          key = lambda x : x[0])\n",
    "        split_list[length] = (length-split, split)\n",
    "        return price\n",
    "    def solver(length, split_list):\n",
    "        #对递归出的列表进行解析，得出最优方案\n",
    "        left = split_list[length][0]\n",
    "        right = split_list[length][1]\n",
    "        if left == 0 or right == 0:\n",
    "            return [left] if right == 0 else [right]\n",
    "        return solver(left,split_list)+ solver(right,split_list)\n",
    "    split_list = defaultdict(tuple)\n",
    "    price = price_optimizer(length, price_dict)\n",
    "    solver = solver(length, split_list)\n",
    "    return price, solver"
   ]
  },
  {
   "cell_type": "code",
   "execution_count": 35,
   "metadata": {},
   "outputs": [],
   "source": [
    "#修饰函数\n",
    "from functools import wraps\n",
    "def memo(func):\n",
    "    cache={}\n",
    "    @wraps(func)\n",
    "    def _wrap(a,b):\n",
    "        if a in cache: result = cache[a]\n",
    "        else: \n",
    "            cache[a] = func(a,b)\n",
    "            result = func(a,b)\n",
    "        return result\n",
    "    return _wrap"
   ]
  },
  {
   "cell_type": "code",
   "execution_count": 36,
   "metadata": {},
   "outputs": [
    {
     "data": {
      "text/plain": [
       "(158, [10, 10, 10, 10, 10, 3])"
      ]
     },
     "execution_count": 36,
     "metadata": {},
     "output_type": "execute_result"
    }
   ],
   "source": [
    "revenue_optimizer(53,cutting_price)"
   ]
  },
  {
   "cell_type": "markdown",
   "metadata": {},
   "source": [
    "# 动态规划——句子的距离"
   ]
  },
  {
   "cell_type": "markdown",
   "metadata": {},
   "source": [
    "#### 判断两句话是否相似，通过三种方法变换使得两句话一致，并计算操作步数，\n",
    "#### 递归得到所有操作可能，以最小操作步数衡量句子的最短距离"
   ]
  },
  {
   "cell_type": "code",
   "execution_count": 47,
   "metadata": {},
   "outputs": [],
   "source": [
    "import functools\n",
    "#@lru_cache(maxsize=2**10)\n",
    "def edit_distance(string1, string2):\n",
    "    if len(string1) == 0 : return len(string2)\n",
    "    if len(string2) == 0 : return len(string1)\n",
    "    last_token1 = string1[-1]\n",
    "    last_token2 = string2[-1]\n",
    "    if last_token1 == last_token2:\n",
    "        choice=(edit_distance(string1[:-1],string2[:-1]),\"no edition\")\n",
    "    else: \n",
    "        choice = (edit_distance(string1[:-1],string2[:-1])+2,\"substitute{} and {}\".format(string1, string2))\n",
    "    choices = [\n",
    "        (edit_distance(string1[:-1],string2)+1,\"delete one characeter from {}\".format(string1)),\n",
    "        (edit_distance(string1,string2[:-1])+1,\"delete one characeter from {}\".format(string2)),\n",
    "    ]\n",
    "    choices.append(choice)\n",
    "    minus,operation = min(choices, key = lambda x: x[0])\n",
    "    course[(string1,string2)] = operation\n",
    "    return minus\n",
    "\n",
    "    "
   ]
  },
  {
   "cell_type": "code",
   "execution_count": 48,
   "metadata": {},
   "outputs": [],
   "source": [
    "course = {}"
   ]
  },
  {
   "cell_type": "code",
   "execution_count": 49,
   "metadata": {},
   "outputs": [
    {
     "data": {
      "text/plain": [
       "4"
      ]
     },
     "execution_count": 49,
     "metadata": {},
     "output_type": "execute_result"
    }
   ],
   "source": [
    "edit_distance(\"今天你吃饭了么\",\"今天我吃了\")"
   ]
  },
  {
   "cell_type": "code",
   "execution_count": 65,
   "metadata": {},
   "outputs": [
    {
     "data": {
      "text/plain": [
       "{('今', '今'): 'no edition',\n",
       " ('今天', '今'): 'delete one characeter from 今天',\n",
       " ('今天你', '今'): 'delete one characeter from 今天你',\n",
       " ('今', '今天'): 'delete one characeter from 今天',\n",
       " ('今天', '今天'): 'no edition',\n",
       " ('今天你', '今天'): 'delete one characeter from 今天你',\n",
       " ('今天你吃', '今'): 'delete one characeter from 今天你吃',\n",
       " ('今天你吃', '今天'): 'delete one characeter from 今天你吃',\n",
       " ('今', '今天我'): 'delete one characeter from 今天我',\n",
       " ('今天', '今天我'): 'delete one characeter from 今天我',\n",
       " ('今天你', '今天我'): 'delete one characeter from 今天你',\n",
       " ('今天你吃', '今天我'): 'delete one characeter from 今天你吃',\n",
       " ('今天你吃饭', '今'): 'delete one characeter from 今天你吃饭',\n",
       " ('今天你吃饭', '今天'): 'delete one characeter from 今天你吃饭',\n",
       " ('今天你吃饭', '今天我'): 'delete one characeter from 今天你吃饭',\n",
       " ('今', '今天我吃'): 'delete one characeter from 今天我吃',\n",
       " ('今天', '今天我吃'): 'delete one characeter from 今天我吃',\n",
       " ('今天你', '今天我吃'): 'delete one characeter from 今天你',\n",
       " ('今天你吃', '今天我吃'): 'no edition',\n",
       " ('今天你吃饭', '今天我吃'): 'delete one characeter from 今天你吃饭',\n",
       " ('今天你吃饭了', '今'): 'delete one characeter from 今天你吃饭了',\n",
       " ('今天你吃饭了', '今天'): 'delete one characeter from 今天你吃饭了',\n",
       " ('今天你吃饭了', '今天我'): 'delete one characeter from 今天你吃饭了',\n",
       " ('今天你吃饭了', '今天我吃'): 'delete one characeter from 今天你吃饭了',\n",
       " ('今', '今天我吃了'): 'delete one characeter from 今天我吃了',\n",
       " ('今天', '今天我吃了'): 'delete one characeter from 今天我吃了',\n",
       " ('今天你', '今天我吃了'): 'delete one characeter from 今天你',\n",
       " ('今天你吃', '今天我吃了'): 'delete one characeter from 今天我吃了',\n",
       " ('今天你吃饭', '今天我吃了'): 'delete one characeter from 今天你吃饭',\n",
       " ('今天你吃饭了', '今天我吃了'): 'no edition',\n",
       " ('今天你吃饭了么', '今'): 'delete one characeter from 今天你吃饭了么',\n",
       " ('今天你吃饭了么', '今天'): 'delete one characeter from 今天你吃饭了么',\n",
       " ('今天你吃饭了么', '今天我'): 'delete one characeter from 今天你吃饭了么',\n",
       " ('今天你吃饭了么', '今天我吃'): 'delete one characeter from 今天你吃饭了么',\n",
       " ('今天你吃饭了么', '今天我吃了'): 'delete one characeter from 今天你吃饭了么'}"
      ]
     },
     "execution_count": 65,
     "metadata": {},
     "output_type": "execute_result"
    }
   ],
   "source": [
    "course"
   ]
  },
  {
   "cell_type": "code",
   "execution_count": 59,
   "metadata": {},
   "outputs": [],
   "source": [
    "\"\"\"def word_solution(string_tuple,course):\n",
    "        left = string_tuple[0]\n",
    "        right = string_tuple[1]\n",
    "        if len(left) == 1 and len(right) == 1:\n",
    "            return [(left,right)]\n",
    "        if \"no edition\"in course[string_tuple] or \"substitute\" in course[string_tuple]:\n",
    "            word_solution((left[:-1],right[:-1]),course)\n",
    "        elif left in course[string_tuple]:\n",
    "            word_solution((left[:-1],right),course)\n",
    "        else :\n",
    "            word_solution((left,right[:-1]),course)\n",
    "    \"\"\""
   ]
  },
  {
   "cell_type": "code",
   "execution_count": 80,
   "metadata": {},
   "outputs": [],
   "source": [
    "def word_solution(string_tuple,course):\n",
    "        start = string_tuple\n",
    "        courses = [start]\n",
    "        while courses:\n",
    "            successor = courses.pop()\n",
    "            left, right = successor\n",
    "            if len(left) == 1 and len (right)==1:\n",
    "                break\n",
    "            if \"no edition\"in course[successor] or \"substitute\" in course[successor]:\n",
    "                next_sentence = (left[:-1],right[:-1])\n",
    "            elif left in course[string_tuple]:\n",
    "                next_sentence = (left[:-1],right)\n",
    "            else : \n",
    "                next_sentence = (left,right[:-1])\n",
    "            \n",
    "            courses.append(successor)\n",
    "            courses.append(next_sentence)\n",
    "        return courses\n",
    "    "
   ]
  },
  {
   "cell_type": "code",
   "execution_count": 81,
   "metadata": {},
   "outputs": [
    {
     "ename": "KeyError",
     "evalue": "('', '今天我')",
     "output_type": "error",
     "traceback": [
      "\u001b[1;31m---------------------------------------------------------------------------\u001b[0m",
      "\u001b[1;31mKeyError\u001b[0m                                  Traceback (most recent call last)",
      "\u001b[1;32m<ipython-input-81-887fc41ee878>\u001b[0m in \u001b[0;36m<module>\u001b[1;34m\u001b[0m\n\u001b[1;32m----> 1\u001b[1;33m \u001b[0mword_solution\u001b[0m\u001b[1;33m(\u001b[0m\u001b[1;33m(\u001b[0m\u001b[1;34m'今天你吃饭了么'\u001b[0m\u001b[1;33m,\u001b[0m \u001b[1;34m'今天我吃了'\u001b[0m\u001b[1;33m)\u001b[0m\u001b[1;33m,\u001b[0m\u001b[0mcourse\u001b[0m\u001b[1;33m)\u001b[0m\u001b[1;33m\u001b[0m\u001b[1;33m\u001b[0m\u001b[0m\n\u001b[0m",
      "\u001b[1;32m<ipython-input-80-dacdfcf0f63e>\u001b[0m in \u001b[0;36mword_solution\u001b[1;34m(string_tuple, course)\u001b[0m\n\u001b[0;32m      8\u001b[0m             \u001b[1;32mif\u001b[0m \u001b[0mlen\u001b[0m\u001b[1;33m(\u001b[0m\u001b[0mleft\u001b[0m\u001b[1;33m)\u001b[0m \u001b[1;33m==\u001b[0m \u001b[1;36m1\u001b[0m \u001b[1;32mand\u001b[0m \u001b[0mlen\u001b[0m \u001b[1;33m(\u001b[0m\u001b[0mright\u001b[0m\u001b[1;33m)\u001b[0m\u001b[1;33m==\u001b[0m\u001b[1;36m1\u001b[0m\u001b[1;33m:\u001b[0m\u001b[1;33m\u001b[0m\u001b[1;33m\u001b[0m\u001b[0m\n\u001b[0;32m      9\u001b[0m                 \u001b[1;32mbreak\u001b[0m\u001b[1;33m\u001b[0m\u001b[1;33m\u001b[0m\u001b[0m\n\u001b[1;32m---> 10\u001b[1;33m             \u001b[1;32mif\u001b[0m \u001b[1;34m\"no edition\"\u001b[0m\u001b[1;32min\u001b[0m \u001b[0mcourse\u001b[0m\u001b[1;33m[\u001b[0m\u001b[0msuccessor\u001b[0m\u001b[1;33m]\u001b[0m \u001b[1;32mor\u001b[0m \u001b[1;34m\"substitute\"\u001b[0m \u001b[1;32min\u001b[0m \u001b[0mcourse\u001b[0m\u001b[1;33m[\u001b[0m\u001b[0msuccessor\u001b[0m\u001b[1;33m]\u001b[0m\u001b[1;33m:\u001b[0m\u001b[1;33m\u001b[0m\u001b[1;33m\u001b[0m\u001b[0m\n\u001b[0m\u001b[0;32m     11\u001b[0m                 \u001b[0mnext_sentence\u001b[0m \u001b[1;33m=\u001b[0m \u001b[1;33m(\u001b[0m\u001b[0mleft\u001b[0m\u001b[1;33m[\u001b[0m\u001b[1;33m:\u001b[0m\u001b[1;33m-\u001b[0m\u001b[1;36m1\u001b[0m\u001b[1;33m]\u001b[0m\u001b[1;33m,\u001b[0m\u001b[0mright\u001b[0m\u001b[1;33m[\u001b[0m\u001b[1;33m:\u001b[0m\u001b[1;33m-\u001b[0m\u001b[1;36m1\u001b[0m\u001b[1;33m]\u001b[0m\u001b[1;33m)\u001b[0m\u001b[1;33m\u001b[0m\u001b[1;33m\u001b[0m\u001b[0m\n\u001b[0;32m     12\u001b[0m             \u001b[1;32melif\u001b[0m \u001b[0mleft\u001b[0m \u001b[1;32min\u001b[0m \u001b[0mcourse\u001b[0m\u001b[1;33m[\u001b[0m\u001b[0mstring_tuple\u001b[0m\u001b[1;33m]\u001b[0m\u001b[1;33m:\u001b[0m\u001b[1;33m\u001b[0m\u001b[1;33m\u001b[0m\u001b[0m\n",
      "\u001b[1;31mKeyError\u001b[0m: ('', '今天我')"
     ]
    }
   ],
   "source": [
    "word_solution(('今天你吃饭了么', '今天我吃了'),course)"
   ]
  },
  {
   "cell_type": "code",
   "execution_count": 76,
   "metadata": {},
   "outputs": [
    {
     "data": {
      "text/plain": [
       "{('今', '今'): 'no edition',\n",
       " ('今天', '今'): 'delete one characeter from 今天',\n",
       " ('今天你', '今'): 'delete one characeter from 今天你',\n",
       " ('今', '今天'): 'delete one characeter from 今天',\n",
       " ('今天', '今天'): 'no edition',\n",
       " ('今天你', '今天'): 'delete one characeter from 今天你',\n",
       " ('今天你吃', '今'): 'delete one characeter from 今天你吃',\n",
       " ('今天你吃', '今天'): 'delete one characeter from 今天你吃',\n",
       " ('今', '今天我'): 'delete one characeter from 今天我',\n",
       " ('今天', '今天我'): 'delete one characeter from 今天我',\n",
       " ('今天你', '今天我'): 'delete one characeter from 今天你',\n",
       " ('今天你吃', '今天我'): 'delete one characeter from 今天你吃',\n",
       " ('今天你吃饭', '今'): 'delete one characeter from 今天你吃饭',\n",
       " ('今天你吃饭', '今天'): 'delete one characeter from 今天你吃饭',\n",
       " ('今天你吃饭', '今天我'): 'delete one characeter from 今天你吃饭',\n",
       " ('今', '今天我吃'): 'delete one characeter from 今天我吃',\n",
       " ('今天', '今天我吃'): 'delete one characeter from 今天我吃',\n",
       " ('今天你', '今天我吃'): 'delete one characeter from 今天你',\n",
       " ('今天你吃', '今天我吃'): 'no edition',\n",
       " ('今天你吃饭', '今天我吃'): 'delete one characeter from 今天你吃饭',\n",
       " ('今天你吃饭了', '今'): 'delete one characeter from 今天你吃饭了',\n",
       " ('今天你吃饭了', '今天'): 'delete one characeter from 今天你吃饭了',\n",
       " ('今天你吃饭了', '今天我'): 'delete one characeter from 今天你吃饭了',\n",
       " ('今天你吃饭了', '今天我吃'): 'delete one characeter from 今天你吃饭了',\n",
       " ('今', '今天我吃了'): 'delete one characeter from 今天我吃了',\n",
       " ('今天', '今天我吃了'): 'delete one characeter from 今天我吃了',\n",
       " ('今天你', '今天我吃了'): 'delete one characeter from 今天你',\n",
       " ('今天你吃', '今天我吃了'): 'delete one characeter from 今天我吃了',\n",
       " ('今天你吃饭', '今天我吃了'): 'delete one characeter from 今天你吃饭',\n",
       " ('今天你吃饭了', '今天我吃了'): 'no edition',\n",
       " ('今天你吃饭了么', '今'): 'delete one characeter from 今天你吃饭了么',\n",
       " ('今天你吃饭了么', '今天'): 'delete one characeter from 今天你吃饭了么',\n",
       " ('今天你吃饭了么', '今天我'): 'delete one characeter from 今天你吃饭了么',\n",
       " ('今天你吃饭了么', '今天我吃'): 'delete one characeter from 今天你吃饭了么',\n",
       " ('今天你吃饭了么', '今天我吃了'): 'delete one characeter from 今天你吃饭了么'}"
      ]
     },
     "execution_count": 76,
     "metadata": {},
     "output_type": "execute_result"
    }
   ],
   "source": [
    "course"
   ]
  },
  {
   "cell_type": "code",
   "execution_count": null,
   "metadata": {},
   "outputs": [],
   "source": []
  }
 ],
 "metadata": {
  "kernelspec": {
   "display_name": "Python 3",
   "language": "python",
   "name": "python3"
  },
  "language_info": {
   "codemirror_mode": {
    "name": "ipython",
    "version": 3
   },
   "file_extension": ".py",
   "mimetype": "text/x-python",
   "name": "python",
   "nbconvert_exporter": "python",
   "pygments_lexer": "ipython3",
   "version": "3.7.3"
  }
 },
 "nbformat": 4,
 "nbformat_minor": 2
}
