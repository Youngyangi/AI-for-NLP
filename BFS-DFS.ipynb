{
 "cells": [
  {
   "cell_type": "code",
   "execution_count": 1,
   "metadata": {},
   "outputs": [],
   "source": [
    "\"\"\"\n",
    "        1\n",
    "    2      3\n",
    "  4   5    6\n",
    "  7  8 9 10 11\n",
    "\"\"\"\n",
    "connections={\n",
    "    1 : [2,3],\n",
    "    2 : [1,4,5],\n",
    "    3 : [1,6],\n",
    "    4 : [2,7],\n",
    "    5 : [2,8,9],\n",
    "    6 : [3,10,11],\n",
    "    7 : [4],\n",
    "    8 : [5],\n",
    "    9 : [5],\n",
    "    10 : [6],\n",
    "    11 : [6]\n",
    "}\n"
   ]
  },
  {
   "cell_type": "markdown",
   "metadata": {},
   "source": [
    "## 两种搜索方法\n",
    "区别只有一行\\\n",
    " path=path+get_connections\\\n",
    " path=get_connections+path"
   ]
  },
  {
   "cell_type": "code",
   "execution_count": 6,
   "metadata": {},
   "outputs": [],
   "source": [
    "def BFS (start, destination, connections):\n",
    "    path=[start]\n",
    "    seen=set()\n",
    "    route=[]\n",
    "    while path:\n",
    "        successor=path.pop(0)\n",
    "        if successor==destination:\n",
    "            return route\n",
    "        if successor in seen:\n",
    "            continue\n",
    "        seen.add(successor)\n",
    "        route.append(successor)\n",
    "        get_connections=connections[successor]\n",
    "        print('standing at {} looking forward{}'.format(successor,get_connections))\n",
    "        path=path+get_connections\n"
   ]
  },
  {
   "cell_type": "code",
   "execution_count": 39,
   "metadata": {},
   "outputs": [],
   "source": [
    "def DFS (start, destination, connections):\n",
    "    path=[start]\n",
    "    seen=set()\n",
    "    route=[]\n",
    "    while path:\n",
    "        successor=path.pop(0)\n",
    "        if successor==destination:\n",
    "            return route\n",
    "        if successor in seen:\n",
    "            continue\n",
    "        seen.add(successor)\n",
    "        route.append(successor)\n",
    "        get_connections=connections[successor]\n",
    "        print('standing at {} looking forward{}'.format(successor,get_connections))\n",
    "        path=get_connections+path\n",
    " "
   ]
  },
  {
   "cell_type": "code",
   "execution_count": 7,
   "metadata": {},
   "outputs": [
    {
     "name": "stdout",
     "output_type": "stream",
     "text": [
      "standing at 1 looking forward[2, 3]\n",
      "standing at 2 looking forward[1, 4, 5]\n",
      "standing at 3 looking forward[1, 6]\n",
      "standing at 4 looking forward[2, 7]\n",
      "standing at 5 looking forward[2, 8, 9]\n",
      "standing at 6 looking forward[3, 10, 11]\n",
      "standing at 7 looking forward[4]\n",
      "standing at 8 looking forward[5]\n"
     ]
    },
    {
     "data": {
      "text/plain": [
       "[1, 2, 3, 4, 5, 6, 7, 8]"
      ]
     },
     "execution_count": 7,
     "metadata": {},
     "output_type": "execute_result"
    }
   ],
   "source": [
    "BFS(1,9,connections)"
   ]
  },
  {
   "cell_type": "code",
   "execution_count": 40,
   "metadata": {},
   "outputs": [
    {
     "name": "stdout",
     "output_type": "stream",
     "text": [
      "standing at 1 looking forward[2, 3]\n",
      "standing at 2 looking forward[1, 4, 5]\n",
      "standing at 4 looking forward[2, 7]\n",
      "standing at 7 looking forward[4]\n",
      "standing at 5 looking forward[2, 8, 9]\n",
      "standing at 8 looking forward[5]\n"
     ]
    },
    {
     "data": {
      "text/plain": [
       "[1, 2, 4, 7, 5, 8]"
      ]
     },
     "execution_count": 40,
     "metadata": {},
     "output_type": "execute_result"
    }
   ],
   "source": [
    "DFS(1,9,connections)"
   ]
  },
  {
   "cell_type": "markdown",
   "metadata": {},
   "source": [
    "## 寻路径方法"
   ]
  },
  {
   "cell_type": "code",
   "execution_count": 38,
   "metadata": {},
   "outputs": [],
   "source": [
    "def find_route(route,connections):\n",
    "    successor=route.pop()\n",
    "    route_x=[]\n",
    "    route_x.append(successor)\n",
    "    while route:    \n",
    "        spot=route.pop()\n",
    "        if spot not in connections[successor]:\n",
    "            continue\n",
    "        route_x.append(spot)\n",
    "        successor=spot\n",
    "    return route_x[::-1]"
   ]
  },
  {
   "cell_type": "code",
   "execution_count": 37,
   "metadata": {},
   "outputs": [
    {
     "name": "stdout",
     "output_type": "stream",
     "text": [
      "standing at 1 looking forward[2, 3]\n",
      "standing at 2 looking forward[1, 4, 5]\n",
      "standing at 3 looking forward[1, 6]\n",
      "standing at 4 looking forward[2, 7]\n",
      "standing at 5 looking forward[2, 8, 9]\n",
      "standing at 6 looking forward[3, 10, 11]\n",
      "standing at 7 looking forward[4]\n",
      "standing at 8 looking forward[5]\n"
     ]
    },
    {
     "data": {
      "text/plain": [
       "[1, 2, 5, 8]"
      ]
     },
     "execution_count": 37,
     "metadata": {},
     "output_type": "execute_result"
    }
   ],
   "source": [
    "find_route(BFS(1,9,connections),connections)"
   ]
  },
  {
   "cell_type": "code",
   "execution_count": null,
   "metadata": {},
   "outputs": [],
   "source": []
  }
 ],
 "metadata": {
  "kernelspec": {
   "display_name": "Python 3",
   "language": "python",
   "name": "python3"
  },
  "language_info": {
   "codemirror_mode": {
    "name": "ipython",
    "version": 3
   },
   "file_extension": ".py",
   "mimetype": "text/x-python",
   "name": "python",
   "nbconvert_exporter": "python",
   "pygments_lexer": "ipython3",
   "version": "3.7.4"
  }
 },
 "nbformat": 4,
 "nbformat_minor": 2
}
